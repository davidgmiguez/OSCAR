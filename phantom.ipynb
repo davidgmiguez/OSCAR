{
 "cells": [
  {
   "cell_type": "markdown",
   "metadata": {},
   "source": [
    "We will try to reproduce phantom in Julia. First, we will need some packages "
   ]
  },
  {
   "cell_type": "code",
   "execution_count": null,
   "metadata": {},
   "outputs": [],
   "source": [
    "#using Makie\n",
    "using Plots\n",
    "using Distributions\n",
    "gr()"
   ]
  },
  {
   "cell_type": "code",
   "execution_count": null,
   "metadata": {},
   "outputs": [],
   "source": [
    "mean=2\n",
    "std=0.5\n",
    "α = mean^2/(std*std)\n",
    "β = (std*std)/mean\n",
    "\n",
    "#histogram(rand(Gamma(α,β), 10000),xlim=(1,10))\n"
   ]
  },
  {
   "cell_type": "markdown",
   "metadata": {},
   "source": [
    "Next, we define a matrix that corresponds to a grid in three dimensions"
   ]
  },
  {
   "cell_type": "code",
   "execution_count": null,
   "metadata": {},
   "outputs": [],
   "source": [
    "size=1000\n",
    "A = zeros(size,size,size);"
   ]
  },
  {
   "cell_type": "markdown",
   "metadata": {},
   "source": [
    "choose a random location for the centroid in the 3d grid"
   ]
  },
  {
   "cell_type": "code",
   "execution_count": null,
   "metadata": {},
   "outputs": [],
   "source": [
    "centroid=rand(1:size,1,3)\n",
    "#A[centroid[1],centroid[2],centroid[3]]\n",
    "vector_of_centroids=centroid"
   ]
  },
  {
   "cell_type": "markdown",
   "metadata": {},
   "source": [
    "We define a function to ensure that our cube does not go out of the space"
   ]
  },
  {
   "cell_type": "code",
   "execution_count": null,
   "metadata": {},
   "outputs": [],
   "source": [
    "function NoLimits(n,size)\n",
    "           n <= 0 && return 1\n",
    "           1 < n < size && return n \n",
    "           n > size && return size\n",
    "       end"
   ]
  },
  {
   "cell_type": "markdown",
   "metadata": {},
   "source": [
    "Now we set the dimensions of the cube, using gamma distributed values "
   ]
  },
  {
   "cell_type": "code",
   "execution_count": null,
   "metadata": {},
   "outputs": [],
   "source": [
    "mean=10\n",
    "std=mean/100*30\n",
    "α = mean^2/(std*std)\n",
    "β = (std*std)/mean\n",
    "#radious=mean#rand(Gamma(α,β), 1)\n",
    "rand_vector_radious=(rand(Gamma(α,β), 3))\n",
    "a=Int(round(rand_vector_radious[1]))\n",
    "b=Int(round(rand_vector_radious[2]))\n",
    "c=Int(round(rand_vector_radious[3]))"
   ]
  },
  {
   "cell_type": "markdown",
   "metadata": {},
   "source": [
    "To set the limits of the cube, we use the function "
   ]
  },
  {
   "cell_type": "code",
   "execution_count": null,
   "metadata": {},
   "outputs": [],
   "source": [
    "xmin=NoLimits(centroid[1]-a,size)\n",
    "xmax=NoLimits(centroid[1]+a,size)\n",
    "ymin=NoLimits(centroid[2]-b,size)\n",
    "ymax=NoLimits(centroid[2]+b,size)\n",
    "zmin=NoLimits(centroid[3]-c,size)\n",
    "zmax=NoLimits(centroid[3]+c,size)"
   ]
  },
  {
   "cell_type": "markdown",
   "metadata": {},
   "source": [
    "To set that the cube does not overlap with the other cubes, we fill the matrix A with `ones` in the location of the cube"
   ]
  },
  {
   "cell_type": "code",
   "execution_count": null,
   "metadata": {},
   "outputs": [],
   "source": [
    "A[xmin:xmax,ymin:ymax,zmin:zmax].= 1;"
   ]
  },
  {
   "cell_type": "markdown",
   "metadata": {},
   "source": [
    "Finally, we iterate the process until we fit all cubes in the grid. When the next cube is generated, we need to check if matrix A has a 1 already in the location of the new cube, "
   ]
  },
  {
   "cell_type": "code",
   "execution_count": null,
   "metadata": {},
   "outputs": [],
   "source": [
    "plt = plot3d(1, xlims = (1,size),ylims = (1,size),zlims = (1,size),\n",
    "                title = \"phantom\", marker = 2)\n",
    "counter=0\n",
    "for i=1:100\n",
    "    \n",
    "    centroid=rand(1:1000,1,3)\n",
    "    rand_vector_radious=(rand(Gamma(α,β), 3))\n",
    "    a=Int(round(rand_vector_radious[1]))\n",
    "    b=Int(round(rand_vector_radious[2]))\n",
    "    c=Int(round(rand_vector_radious[3]))\n",
    "    xmin=NoLimits(centroid[1]-a,size)\n",
    "    xmax=NoLimits(centroid[1]+a,size)\n",
    "    ymin=NoLimits(centroid[2]-b,size)\n",
    "    ymax=NoLimits(centroid[2]+b,size)\n",
    "    zmin=NoLimits(centroid[3]-c,size)\n",
    "    zmax=NoLimits(centroid[3]+c,size)\n",
    "    \n",
    "    if sum(A[xmin:xmax,ymin:ymax,zmin:zmax])==0\n",
    "        A[xmin:xmax,ymin:ymax,zmin:zmax].= 1\n",
    "        counter=counter+1\n",
    "        #println(counter)\n",
    "        X = [centroid[1]]\n",
    "        Y = [centroid[2]]\n",
    "        Z = [centroid[3]]\n",
    "        vector_of_centroids=vcat(vector_of_centroids, centroid)\n",
    "        scatter!(X,Y,Z,xlims = (1,size),ylims = (1,size),zlims = (1,size),legend = false)\n",
    "    end\n",
    "end\n",
    "display(plt)"
   ]
  },
  {
   "cell_type": "code",
   "execution_count": null,
   "metadata": {},
   "outputs": [],
   "source": [
    "vector_of_centroids"
   ]
  },
  {
   "cell_type": "code",
   "execution_count": null,
   "metadata": {},
   "outputs": [],
   "source": [
    "# initialize a 3D plot with 1 empty series\n",
    "plt = plot3d(1, xlims = (1,size),ylims = (1,size),zlims = (1,size),\n",
    "                title = \"phantom\", marker = 2)\n",
    "\n",
    "# build an animated gif by pushing new points to the plot, saving every 10th frame\n",
    "@gif for i=1:1500\n",
    "    #step!(attractor)\n",
    "    point=rand(1:1000,1,3)\n",
    "    push!(plt, float(point[1]), point[2],point[3])\n",
    "\n",
    "end every 10"
   ]
  },
  {
   "cell_type": "code",
   "execution_count": null,
   "metadata": {},
   "outputs": [],
   "source": [
    "A = [1 3 4; 3 4 5;4 6 5]"
   ]
  },
  {
   "cell_type": "code",
   "execution_count": null,
   "metadata": {},
   "outputs": [],
   "source": [
    "fill!(A, 1)\n",
    "sum(A)"
   ]
  },
  {
   "cell_type": "code",
   "execution_count": null,
   "metadata": {},
   "outputs": [],
   "source": [
    "A[point[1],point[2],point[3]]"
   ]
  },
  {
   "cell_type": "code",
   "execution_count": null,
   "metadata": {},
   "outputs": [],
   "source": [
    "A[1,1,1]=1"
   ]
  },
  {
   "cell_type": "code",
   "execution_count": null,
   "metadata": {},
   "outputs": [],
   "source": [
    "sphere = Sphere(Point3f0(0,0,0), 1.0f0)\n",
    "meshscatter(mean, scale = scale, rotations = rotation, marker = sphere)"
   ]
  },
  {
   "cell_type": "code",
   "execution_count": null,
   "metadata": {},
   "outputs": [],
   "source": [
    "function fact(n::Int)\n",
    "           n >= 0 || error(\"n must be non-negative\")\n",
    "           n == 0 && return 1\n",
    "           n * fact(n-1)\n",
    "       end"
   ]
  },
  {
   "cell_type": "code",
   "execution_count": null,
   "metadata": {},
   "outputs": [],
   "source": [
    "fact(0)"
   ]
  },
  {
   "cell_type": "code",
   "execution_count": null,
   "metadata": {},
   "outputs": [],
   "source": []
  },
  {
   "cell_type": "code",
   "execution_count": null,
   "metadata": {},
   "outputs": [],
   "source": [
    "fact3(-12,size)"
   ]
  },
  {
   "cell_type": "code",
   "execution_count": null,
   "metadata": {},
   "outputs": [],
   "source": [
    "nn=fact3(-5,size)"
   ]
  },
  {
   "cell_type": "code",
   "execution_count": null,
   "metadata": {},
   "outputs": [],
   "source": [
    "a=rand(1);b=rand(1);c=rand(1)\n",
    "scatter(a,b,c,size=(500,500))"
   ]
  },
  {
   "cell_type": "code",
   "execution_count": null,
   "metadata": {},
   "outputs": [],
   "source": [
    "p = plot()\n",
    "for c in eachcol(rand(100, 4))\n",
    "           scatter!(p, [a,b,c])\n",
    "       end\n",
    "\n",
    "display(p)"
   ]
  },
  {
   "cell_type": "code",
   "execution_count": null,
   "metadata": {},
   "outputs": [],
   "source": [
    "using Makie\n",
    "\n",
    " x = range(0, stop = 2pi, length = 40)\n",
    " f(x) = sin.(x)\n",
    " y = f(x)\n",
    " scene = lines(x, y, color = :blue)"
   ]
  },
  {
   "cell_type": "code",
   "execution_count": null,
   "metadata": {},
   "outputs": [],
   "source": [
    "a=rand(1)"
   ]
  },
  {
   "cell_type": "code",
   "execution_count": null,
   "metadata": {},
   "outputs": [],
   "source": []
  },
  {
   "cell_type": "code",
   "execution_count": null,
   "metadata": {},
   "outputs": [],
   "source": [
    "using Plots\n",
    "# define the Lorenz attractor\n",
    "mutable struct Lorenz\n",
    "    dt; σ; ρ; β; x; y; z\n",
    "end\n",
    "\n",
    "function step!(l::Lorenz)\n",
    "    dx = l.σ*(l.y - l.x)       ; l.x += l.dt * dx\n",
    "    dy = l.x*(l.ρ - l.z) - l.y ; l.y += l.dt * dy\n",
    "    dz = l.x*l.y - l.β*l.z     ; l.z += l.dt * dz\n",
    "   \n",
    "end\n",
    "\n",
    "attractor = Lorenz((dt = 0.02, σ = 10., ρ = 28., β = 8//3, x = 1., y = 1., z = 1.)...)\n",
    "\n",
    "\n",
    "# initialize a 3D plot with 1 empty series\n",
    "plt = plot3d(1, xlims = (1,size),ylims = (1,size),zlims = (1,size),\n",
    "                title = \"Lorenz Attractor\", marker = 2)\n",
    "\n",
    "# build an animated gif by pushing new points to the plot, saving every 10th frame\n",
    "@gif for i=1:1500\n",
    "    #step!(attractor)\n",
    "    point=rand(1:1000,1,3)\n",
    "    push!(plt, float(point[1]), point[2],point[3])\n",
    "\n",
    "end every 10"
   ]
  },
  {
   "cell_type": "code",
   "execution_count": null,
   "metadata": {},
   "outputs": [],
   "source": []
  },
  {
   "cell_type": "code",
   "execution_count": null,
   "metadata": {},
   "outputs": [],
   "source": [
    "float(point[1])"
   ]
  },
  {
   "cell_type": "code",
   "execution_count": null,
   "metadata": {},
   "outputs": [],
   "source": [
    "attractor.x"
   ]
  },
  {
   "cell_type": "code",
   "execution_count": null,
   "metadata": {},
   "outputs": [],
   "source": [
    "attractor.y"
   ]
  },
  {
   "cell_type": "code",
   "execution_count": null,
   "metadata": {},
   "outputs": [],
   "source": [
    "attractor.z"
   ]
  },
  {
   "cell_type": "code",
   "execution_count": null,
   "metadata": {},
   "outputs": [],
   "source": []
  }
 ],
 "metadata": {
  "kernelspec": {
   "display_name": "Julia 1.2.0",
   "language": "julia",
   "name": "julia-1.2"
  },
  "language_info": {
   "file_extension": ".jl",
   "mimetype": "application/julia",
   "name": "julia",
   "version": "1.2.0"
  }
 },
 "nbformat": 4,
 "nbformat_minor": 4
}
